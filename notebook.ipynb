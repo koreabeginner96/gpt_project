{
 "cells": [
  {
   "cell_type": "code",
   "execution_count": 3,
   "metadata": {},
   "outputs": [
    {
     "name": "stderr",
     "output_type": "stream",
     "text": [
      "c:\\Users\\sung\\Music\\GPT\\venv\\Lib\\site-packages\\langchain\\llms\\openai.py:216: UserWarning: You are trying to use a chat model. This way of initializing it is no longer supported. Instead, please use: `from langchain.chat_models import ChatOpenAI`\n",
      "  warnings.warn(\n",
      "c:\\Users\\sung\\Music\\GPT\\venv\\Lib\\site-packages\\langchain\\llms\\openai.py:811: UserWarning: You are trying to use a chat model. This way of initializing it is no longer supported. Instead, please use: `from langchain.chat_models import ChatOpenAI`\n",
      "  warnings.warn(\n"
     ]
    },
    {
     "data": {
      "text/plain": [
       "OpenAIChat(client=<class 'openai.api_resources.chat_completion.ChatCompletion'>, model_name='gpt-3.5-turbo-16k', model_kwargs={'temperature': 0.1, 'max_tokens': 450, 'top_p': 1, 'frequency_penalty': 0, 'presence_penalty': 0, 'n': 1, 'request_timeout': None, 'logit_bias': {}})"
      ]
     },
     "execution_count": 3,
     "metadata": {},
     "output_type": "execute_result"
    }
   ],
   "source": [
    "\n",
    "from langchain.chat_models import ChatOpenAI\n",
    "from langchain.llms.openai import OpenAI\n",
    "from langchain.callbacks import get_openai_callback\n",
    "\n",
    "from langchain.llms.loading import load_llm\n",
    "\n",
    "#모델 규격 저장하는방법\n",
    "chat = OpenAI(\n",
    "    temperature= 0.1,\n",
    "    max_tokens= 450,\n",
    "    model= \"gpt-3.5-turbo-16k\"\n",
    ")\n",
    "\n",
    "chat.save(\"model.json\")\n",
    "\n",
    "#모델 규격 가져오기기\n",
    "chat1 = load_llm(\"model.json\")\n",
    "\n",
    "chat1\n",
    "\n",
    "#chat= ChatOpenAI(temperature=0.1,\n",
    "                 #streaming=True,\n",
    "                 #callbacks=[StreamingStdOutCallbackHandler(),],\n",
    "#                )\n",
    "\n",
    "\n"
   ]
  }
 ],
 "metadata": {
  "kernelspec": {
   "display_name": "Python 3",
   "language": "python",
   "name": "python3"
  },
  "language_info": {
   "codemirror_mode": {
    "name": "ipython",
    "version": 3
   },
   "file_extension": ".py",
   "mimetype": "text/x-python",
   "name": "python",
   "nbconvert_exporter": "python",
   "pygments_lexer": "ipython3",
   "version": "3.11.6"
  },
  "orig_nbformat": 4
 },
 "nbformat": 4,
 "nbformat_minor": 2
}
