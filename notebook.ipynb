{
 "cells": [
  {
   "cell_type": "code",
   "execution_count": 47,
   "metadata": {},
   "outputs": [
    {
     "name": "stdout",
     "output_type": "stream",
     "text": [
      "\u001b[32;1m\u001b[1;3m[llm/start]\u001b[0m \u001b[1m[1:llm:ChatOpenAI] Entering LLM run with input:\n",
      "\u001b[0m{\n",
      "  \"prompts\": [\n",
      "    \"Human: How do you make italian pizza?\"\n",
      "  ]\n",
      "}\n",
      "\u001b[36;1m\u001b[1;3m[llm/end]\u001b[0m \u001b[1m[1:llm:ChatOpenAI] [26.30s] Exiting LLM run with output:\n",
      "\u001b[0m{\n",
      "  \"generations\": [\n",
      "    [\n",
      "      {\n",
      "        \"text\": \"To make Italian pizza, you will need the following ingredients:\\n\\n- Pizza dough (you can make your own or buy pre-made dough)\\n- Tomato sauce (preferably made from San Marzano tomatoes)\\n- Mozzarella cheese (fresh or shredded)\\n- Olive oil\\n- Fresh basil leaves\\n- Toppings of your choice (such as pepperoni, mushrooms, onions, etc.)\\n- Salt and pepper to taste\\n\\nHere's a step-by-step guide to making Italian pizza:\\n\\n1. Preheat your oven to the highest temperature possible (usually around 500°F or 260°C). If you have a pizza stone, place it in the oven to preheat as well.\\n\\n2. Roll out your pizza dough on a floured surface to your desired thickness. If you prefer a thin crust, roll it out thinner, and for a thicker crust, leave it slightly thicker.\\n\\n3. Transfer the rolled-out dough onto a pizza peel or a baking sheet lined with parchment paper.\\n\\n4. Drizzle some olive oil over the dough and spread it evenly using your hands or a brush.\\n\\n5. Spoon tomato sauce onto the dough, leaving a small border around the edges. Use the back of the spoon to spread the sauce evenly.\\n\\n6. Sprinkle a generous amount of mozzarella cheese over the sauce, covering the entire pizza.\\n\\n7. Add your desired toppings, such as pepperoni, mushrooms, onions, etc.\\n\\n8. Season with salt and pepper to taste.\\n\\n9. Carefully transfer the pizza onto the preheated pizza stone in the oven or place the baking sheet directly in the oven.\\n\\n10. Bake for about 10-15 minutes or until the crust is golden brown and the cheese is bubbly and slightly browned.\\n\\n11. Remove the pizza from the oven and let it cool for a few minutes.\\n\\n12. Garnish with fresh basil leaves and drizzle with a little more olive oil if desired.\\n\\n13. Slice the pizza and serve hot.\\n\\nEnjoy your homemade Italian pizza!\",\n",
      "        \"generation_info\": {\n",
      "          \"finish_reason\": \"stop\"\n",
      "        },\n",
      "        \"type\": \"ChatGeneration\",\n",
      "        \"message\": {\n",
      "          \"lc\": 1,\n",
      "          \"type\": \"constructor\",\n",
      "          \"id\": [\n",
      "            \"langchain\",\n",
      "            \"schema\",\n",
      "            \"messages\",\n",
      "            \"AIMessage\"\n",
      "          ],\n",
      "          \"kwargs\": {\n",
      "            \"content\": \"To make Italian pizza, you will need the following ingredients:\\n\\n- Pizza dough (you can make your own or buy pre-made dough)\\n- Tomato sauce (preferably made from San Marzano tomatoes)\\n- Mozzarella cheese (fresh or shredded)\\n- Olive oil\\n- Fresh basil leaves\\n- Toppings of your choice (such as pepperoni, mushrooms, onions, etc.)\\n- Salt and pepper to taste\\n\\nHere's a step-by-step guide to making Italian pizza:\\n\\n1. Preheat your oven to the highest temperature possible (usually around 500°F or 260°C). If you have a pizza stone, place it in the oven to preheat as well.\\n\\n2. Roll out your pizza dough on a floured surface to your desired thickness. If you prefer a thin crust, roll it out thinner, and for a thicker crust, leave it slightly thicker.\\n\\n3. Transfer the rolled-out dough onto a pizza peel or a baking sheet lined with parchment paper.\\n\\n4. Drizzle some olive oil over the dough and spread it evenly using your hands or a brush.\\n\\n5. Spoon tomato sauce onto the dough, leaving a small border around the edges. Use the back of the spoon to spread the sauce evenly.\\n\\n6. Sprinkle a generous amount of mozzarella cheese over the sauce, covering the entire pizza.\\n\\n7. Add your desired toppings, such as pepperoni, mushrooms, onions, etc.\\n\\n8. Season with salt and pepper to taste.\\n\\n9. Carefully transfer the pizza onto the preheated pizza stone in the oven or place the baking sheet directly in the oven.\\n\\n10. Bake for about 10-15 minutes or until the crust is golden brown and the cheese is bubbly and slightly browned.\\n\\n11. Remove the pizza from the oven and let it cool for a few minutes.\\n\\n12. Garnish with fresh basil leaves and drizzle with a little more olive oil if desired.\\n\\n13. Slice the pizza and serve hot.\\n\\nEnjoy your homemade Italian pizza!\",\n",
      "            \"additional_kwargs\": {}\n",
      "          }\n",
      "        }\n",
      "      }\n",
      "    ]\n",
      "  ],\n",
      "  \"llm_output\": {\n",
      "    \"token_usage\": {\n",
      "      \"prompt_tokens\": 14,\n",
      "      \"completion_tokens\": 401,\n",
      "      \"total_tokens\": 415\n",
      "    },\n",
      "    \"model_name\": \"gpt-3.5-turbo\",\n",
      "    \"system_fingerprint\": null\n",
      "  },\n",
      "  \"run\": null\n",
      "}\n"
     ]
    },
    {
     "data": {
      "text/plain": [
       "\"To make Italian pizza, you will need the following ingredients:\\n\\n- Pizza dough (you can make your own or buy pre-made dough)\\n- Tomato sauce (preferably made from San Marzano tomatoes)\\n- Mozzarella cheese (fresh or shredded)\\n- Olive oil\\n- Fresh basil leaves\\n- Toppings of your choice (such as pepperoni, mushrooms, onions, etc.)\\n- Salt and pepper to taste\\n\\nHere's a step-by-step guide to making Italian pizza:\\n\\n1. Preheat your oven to the highest temperature possible (usually around 500°F or 260°C). If you have a pizza stone, place it in the oven to preheat as well.\\n\\n2. Roll out your pizza dough on a floured surface to your desired thickness. If you prefer a thin crust, roll it out thinner, and for a thicker crust, leave it slightly thicker.\\n\\n3. Transfer the rolled-out dough onto a pizza peel or a baking sheet lined with parchment paper.\\n\\n4. Drizzle some olive oil over the dough and spread it evenly using your hands or a brush.\\n\\n5. Spoon tomato sauce onto the dough, leaving a small border around the edges. Use the back of the spoon to spread the sauce evenly.\\n\\n6. Sprinkle a generous amount of mozzarella cheese over the sauce, covering the entire pizza.\\n\\n7. Add your desired toppings, such as pepperoni, mushrooms, onions, etc.\\n\\n8. Season with salt and pepper to taste.\\n\\n9. Carefully transfer the pizza onto the preheated pizza stone in the oven or place the baking sheet directly in the oven.\\n\\n10. Bake for about 10-15 minutes or until the crust is golden brown and the cheese is bubbly and slightly browned.\\n\\n11. Remove the pizza from the oven and let it cool for a few minutes.\\n\\n12. Garnish with fresh basil leaves and drizzle with a little more olive oil if desired.\\n\\n13. Slice the pizza and serve hot.\\n\\nEnjoy your homemade Italian pizza!\""
      ]
     },
     "execution_count": 47,
     "metadata": {},
     "output_type": "execute_result"
    }
   ],
   "source": [
    "\n",
    "from langchain.chat_models import ChatOpenAI\n",
    "from langchain.callbacks import StreamingStdOutCallbackHandler\n",
    "from langchain.globals import set_llm_cache, set_debug\n",
    "from langchain.cache import InMemoryCache, SQLiteCache\n",
    "\n",
    "set_llm_cache(SQLiteCache(\"cache.db\"))\n",
    "\n",
    "\n",
    "chat= ChatOpenAI(temperature=0.1,\n",
    "                 #streaming=True,\n",
    "                 #callbacks=[StreamingStdOutCallbackHandler(),],\n",
    "                 )\n",
    "\n",
    "chat.predict(\"How do you make italian pizza?\")\n"
   ]
  },
  {
   "cell_type": "code",
   "execution_count": 48,
   "metadata": {},
   "outputs": [
    {
     "name": "stdout",
     "output_type": "stream",
     "text": [
      "\u001b[32;1m\u001b[1;3m[llm/start]\u001b[0m \u001b[1m[1:llm:ChatOpenAI] Entering LLM run with input:\n",
      "\u001b[0m{\n",
      "  \"prompts\": [\n",
      "    \"Human: How do you make italian pizza?\"\n",
      "  ]\n",
      "}\n",
      "\u001b[36;1m\u001b[1;3m[llm/end]\u001b[0m \u001b[1m[1:llm:ChatOpenAI] [4ms] Exiting LLM run with output:\n",
      "\u001b[0m{\n",
      "  \"generations\": [\n",
      "    [\n",
      "      {\n",
      "        \"text\": \"To make Italian pizza, you will need the following ingredients:\\n\\n- Pizza dough (you can make your own or buy pre-made dough)\\n- Tomato sauce (preferably made from San Marzano tomatoes)\\n- Mozzarella cheese (fresh or shredded)\\n- Olive oil\\n- Fresh basil leaves\\n- Toppings of your choice (such as pepperoni, mushrooms, onions, etc.)\\n- Salt and pepper to taste\\n\\nHere's a step-by-step guide to making Italian pizza:\\n\\n1. Preheat your oven to the highest temperature possible (usually around 500°F or 260°C). If you have a pizza stone, place it in the oven to preheat as well.\\n\\n2. Roll out your pizza dough on a floured surface to your desired thickness. If you prefer a thin crust, roll it out thinner, and for a thicker crust, leave it slightly thicker.\\n\\n3. Transfer the rolled-out dough onto a pizza peel or a baking sheet lined with parchment paper.\\n\\n4. Drizzle some olive oil over the dough and spread it evenly using your hands or a brush.\\n\\n5. Spoon tomato sauce onto the dough, leaving a small border around the edges. Use the back of the spoon to spread the sauce evenly.\\n\\n6. Sprinkle a generous amount of mozzarella cheese over the sauce, covering the entire pizza.\\n\\n7. Add your desired toppings, such as pepperoni, mushrooms, onions, etc.\\n\\n8. Season with salt and pepper to taste.\\n\\n9. Carefully transfer the pizza onto the preheated pizza stone in the oven or place the baking sheet directly in the oven.\\n\\n10. Bake for about 10-15 minutes or until the crust is golden brown and the cheese is bubbly and slightly browned.\\n\\n11. Remove the pizza from the oven and let it cool for a few minutes.\\n\\n12. Garnish with fresh basil leaves and drizzle with a little more olive oil if desired.\\n\\n13. Slice the pizza and serve hot.\\n\\nEnjoy your homemade Italian pizza!\",\n",
      "        \"generation_info\": {\n",
      "          \"finish_reason\": \"stop\"\n",
      "        },\n",
      "        \"type\": \"ChatGeneration\",\n",
      "        \"message\": {\n",
      "          \"lc\": 1,\n",
      "          \"type\": \"constructor\",\n",
      "          \"id\": [\n",
      "            \"langchain\",\n",
      "            \"schema\",\n",
      "            \"messages\",\n",
      "            \"AIMessage\"\n",
      "          ],\n",
      "          \"kwargs\": {\n",
      "            \"content\": \"To make Italian pizza, you will need the following ingredients:\\n\\n- Pizza dough (you can make your own or buy pre-made dough)\\n- Tomato sauce (preferably made from San Marzano tomatoes)\\n- Mozzarella cheese (fresh or shredded)\\n- Olive oil\\n- Fresh basil leaves\\n- Toppings of your choice (such as pepperoni, mushrooms, onions, etc.)\\n- Salt and pepper to taste\\n\\nHere's a step-by-step guide to making Italian pizza:\\n\\n1. Preheat your oven to the highest temperature possible (usually around 500°F or 260°C). If you have a pizza stone, place it in the oven to preheat as well.\\n\\n2. Roll out your pizza dough on a floured surface to your desired thickness. If you prefer a thin crust, roll it out thinner, and for a thicker crust, leave it slightly thicker.\\n\\n3. Transfer the rolled-out dough onto a pizza peel or a baking sheet lined with parchment paper.\\n\\n4. Drizzle some olive oil over the dough and spread it evenly using your hands or a brush.\\n\\n5. Spoon tomato sauce onto the dough, leaving a small border around the edges. Use the back of the spoon to spread the sauce evenly.\\n\\n6. Sprinkle a generous amount of mozzarella cheese over the sauce, covering the entire pizza.\\n\\n7. Add your desired toppings, such as pepperoni, mushrooms, onions, etc.\\n\\n8. Season with salt and pepper to taste.\\n\\n9. Carefully transfer the pizza onto the preheated pizza stone in the oven or place the baking sheet directly in the oven.\\n\\n10. Bake for about 10-15 minutes or until the crust is golden brown and the cheese is bubbly and slightly browned.\\n\\n11. Remove the pizza from the oven and let it cool for a few minutes.\\n\\n12. Garnish with fresh basil leaves and drizzle with a little more olive oil if desired.\\n\\n13. Slice the pizza and serve hot.\\n\\nEnjoy your homemade Italian pizza!\",\n",
      "            \"additional_kwargs\": {}\n",
      "          }\n",
      "        }\n",
      "      }\n",
      "    ]\n",
      "  ],\n",
      "  \"llm_output\": null,\n",
      "  \"run\": null\n",
      "}\n"
     ]
    },
    {
     "data": {
      "text/plain": [
       "\"To make Italian pizza, you will need the following ingredients:\\n\\n- Pizza dough (you can make your own or buy pre-made dough)\\n- Tomato sauce (preferably made from San Marzano tomatoes)\\n- Mozzarella cheese (fresh or shredded)\\n- Olive oil\\n- Fresh basil leaves\\n- Toppings of your choice (such as pepperoni, mushrooms, onions, etc.)\\n- Salt and pepper to taste\\n\\nHere's a step-by-step guide to making Italian pizza:\\n\\n1. Preheat your oven to the highest temperature possible (usually around 500°F or 260°C). If you have a pizza stone, place it in the oven to preheat as well.\\n\\n2. Roll out your pizza dough on a floured surface to your desired thickness. If you prefer a thin crust, roll it out thinner, and for a thicker crust, leave it slightly thicker.\\n\\n3. Transfer the rolled-out dough onto a pizza peel or a baking sheet lined with parchment paper.\\n\\n4. Drizzle some olive oil over the dough and spread it evenly using your hands or a brush.\\n\\n5. Spoon tomato sauce onto the dough, leaving a small border around the edges. Use the back of the spoon to spread the sauce evenly.\\n\\n6. Sprinkle a generous amount of mozzarella cheese over the sauce, covering the entire pizza.\\n\\n7. Add your desired toppings, such as pepperoni, mushrooms, onions, etc.\\n\\n8. Season with salt and pepper to taste.\\n\\n9. Carefully transfer the pizza onto the preheated pizza stone in the oven or place the baking sheet directly in the oven.\\n\\n10. Bake for about 10-15 minutes or until the crust is golden brown and the cheese is bubbly and slightly browned.\\n\\n11. Remove the pizza from the oven and let it cool for a few minutes.\\n\\n12. Garnish with fresh basil leaves and drizzle with a little more olive oil if desired.\\n\\n13. Slice the pizza and serve hot.\\n\\nEnjoy your homemade Italian pizza!\""
      ]
     },
     "execution_count": 48,
     "metadata": {},
     "output_type": "execute_result"
    }
   ],
   "source": [
    "chat.predict(\"How do you make italian pizza?\")"
   ]
  }
 ],
 "metadata": {
  "kernelspec": {
   "display_name": "Python 3",
   "language": "python",
   "name": "python3"
  },
  "language_info": {
   "codemirror_mode": {
    "name": "ipython",
    "version": 3
   },
   "file_extension": ".py",
   "mimetype": "text/x-python",
   "name": "python",
   "nbconvert_exporter": "python",
   "pygments_lexer": "ipython3",
   "version": "3.11.6"
  },
  "orig_nbformat": 4
 },
 "nbformat": 4,
 "nbformat_minor": 2
}
