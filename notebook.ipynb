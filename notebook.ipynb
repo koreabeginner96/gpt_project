{
 "cells": [
  {
   "cell_type": "code",
   "execution_count": 14,
   "metadata": {},
   "outputs": [
    {
     "data": {
      "text/plain": [
       "AIMessage(content=\"Here's a vegetarian alternative for Chicken Tikka Masala:\\n\\nIngredients:\\n- 500g firm tofu, cut into bite-sized pieces\\n- 1 cup plain yogurt (use dairy-free yogurt for a vegan option)\\n- 2 tablespoons lemon juice\\n- 2 tablespoons vegetable oil\\n- 1 large onion, finely chopped\\n- 3 cloves of garlic, minced\\n- 1 tablespoon ginger, grated\\n- 2 teaspoons ground cumin\\n- 2 teaspoons ground coriander\\n- 1 teaspoon turmeric powder\\n- 1 teaspoon paprika\\n- 1 teaspoon garam masala\\n- 1 cup tomato puree\\n- 1 cup coconut cream (or dairy-free heavy cream substitute)\\n- Salt, to taste\\n- Fresh cilantro, chopped (for garnish)\\n\\nInstructions:\\n1. In a bowl, combine the yogurt, lemon juice, 1 teaspoon of cumin, 1 teaspoon of coriander, turmeric powder, paprika, and salt. Mix well.\\n2. Add the tofu pieces to the marinade, ensuring they are well coated. Let it marinate for at least 1 hour, or overnight in the refrigerator for better flavor.\\n3. Preheat your grill or oven to medium-high heat. Cook the marinated tofu until it is slightly charred and heated through. Set aside.\\n4. In a large pan, heat the vegetable oil over medium heat. Add the chopped onion and cook until it becomes translucent.\\n5. Add the minced garlic and grated ginger to the pan. Sauté for another minute until fragrant.\\n6. Add the remaining cumin, coriander, garam masala, and salt. Stir well to combine the spices with the onion mixture.\\n7. Pour in the tomato puree and cook for a few minutes until the sauce thickens slightly.\\n8. Reduce the heat to low and stir in the coconut cream. Simmer for 5 minutes, allowing the flavors to meld together.\\n9. Add the cooked tofu tikka to the sauce and simmer for an additional 5 minutes, ensuring the tofu is heated through.\\n10. Garnish with fresh cilantro and serve hot with steamed rice or naan bread.\\n\\nEnjoy your vegetarian version of Chicken Tikka Masala!\")"
      ]
     },
     "execution_count": 14,
     "metadata": {},
     "output_type": "execute_result"
    }
   ],
   "source": [
    "from langchain.chat_models import ChatOpenAI\n",
    "from langchain.schema import HumanMessage, AIMessage, SystemMessage\n",
    "from langchain.schema import BaseOutputParser\n",
    "from langchain.prompts import ChatPromptTemplate\n",
    "from langchain.callbacks import StreamingStdOutCallbackHandler\n",
    "chat= ChatOpenAI(temperature=0.1,\n",
    "                 streaming=True,\n",
    "                 callbacks=[],)\n",
    "\n",
    "chef_template = ChatPromptTemplate.from_messages([\n",
    "    (\"system\",\"you are world-class international chef. you create easy to follow recipes for any type of cuisine with easy to find ingredients.\"),\n",
    "    (\"human\",\"I want to cook {cuisine} food.\"),\n",
    "])\n",
    "\n",
    "chef_chain = chef_template | chat\n",
    "veg_chef_prompt = ChatPromptTemplate.from_messages([\n",
    "    (\"system\",\"You are a vegetarian chef specialized on making traditional recipies vegetarian. You find alternative ingredients and explain their preparation. You don't radically modify the recipe. If there is no alternative for a food just say you don't know how to replace it.\"),\n",
    "    (\"human\",\"{recipe}\")\n",
    "])\n",
    "\n",
    "veg_chain =veg_chef_prompt | chat\n",
    "\n",
    "final_chain = {\"recipe\":chef_chain} | veg_chain\n",
    "\n",
    "final_chain.invoke({\n",
    "    \"cuisine\":\"indian\"\n",
    "})"
   ]
  },
  {
   "cell_type": "code",
   "execution_count": null,
   "metadata": {},
   "outputs": [],
   "source": [
    "\n",
    "\n"
   ]
  },
  {
   "cell_type": "code",
   "execution_count": 10,
   "metadata": {},
   "outputs": [
    {
     "ename": "NameError",
     "evalue": "name 'ChatPromptTemplate' is not defined",
     "output_type": "error",
     "traceback": [
      "\u001b[1;31m---------------------------------------------------------------------------\u001b[0m",
      "\u001b[1;31mNameError\u001b[0m                                 Traceback (most recent call last)",
      "Cell \u001b[1;32mIn[10], line 1\u001b[0m\n\u001b[1;32m----> 1\u001b[0m veg_chef_prompt \u001b[39m=\u001b[39m ChatPromptTemplate\u001b[39m.\u001b[39mfrom_messages([\n\u001b[0;32m      2\u001b[0m     (\u001b[39m\"\u001b[39m\u001b[39msystem\u001b[39m\u001b[39m\"\u001b[39m,\u001b[39m\"\u001b[39m\u001b[39mYou are a vegetarian chef specialized on making traditional recipies vegetarian. You find alternative ingredients and explain their preparation. You don\u001b[39m\u001b[39m'\u001b[39m\u001b[39mt radically modify the recipe. If there is no alternative for a food just say you don\u001b[39m\u001b[39m'\u001b[39m\u001b[39mt know how to replace it.\u001b[39m\u001b[39m\"\u001b[39m),\n\u001b[0;32m      3\u001b[0m     (\u001b[39m\"\u001b[39m\u001b[39mhumman\u001b[39m\u001b[39m\"\u001b[39m,\u001b[39m\"\u001b[39m\u001b[39m{recipe}\u001b[39;00m\u001b[39m\"\u001b[39m)\n\u001b[0;32m      4\u001b[0m ])\n\u001b[0;32m      6\u001b[0m veg_chain \u001b[39m=\u001b[39mveg_chef_prompt \u001b[39m|\u001b[39m chat\n\u001b[0;32m      8\u001b[0m final_chain \u001b[39m=\u001b[39m {\u001b[39m\"\u001b[39m\u001b[39mrecipe\u001b[39m\u001b[39m\"\u001b[39m:chef_chain} \u001b[39m|\u001b[39m veg_chain\n",
      "\u001b[1;31mNameError\u001b[0m: name 'ChatPromptTemplate' is not defined"
     ]
    }
   ],
   "source": []
  }
 ],
 "metadata": {
  "kernelspec": {
   "display_name": "Python 3",
   "language": "python",
   "name": "python3"
  },
  "language_info": {
   "codemirror_mode": {
    "name": "ipython",
    "version": 3
   },
   "file_extension": ".py",
   "mimetype": "text/x-python",
   "name": "python",
   "nbconvert_exporter": "python",
   "pygments_lexer": "ipython3",
   "version": "3.11.6"
  },
  "orig_nbformat": 4
 },
 "nbformat": 4,
 "nbformat_minor": 2
}
